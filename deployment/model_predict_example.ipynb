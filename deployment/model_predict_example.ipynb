{
 "cells": [
  {
   "cell_type": "code",
   "execution_count": 20,
   "metadata": {},
   "outputs": [],
   "source": [
    "import gcsfs\n",
    "import joblib\n",
    "import pandas as pd\n",
    "import sys"
   ]
  },
  {
   "cell_type": "code",
   "execution_count": 25,
   "metadata": {},
   "outputs": [
    {
     "name": "stdout",
     "output_type": "stream",
     "text": [
      "Collecting seaborn\n",
      "  Downloading seaborn-0.12.2-py3-none-any.whl (293 kB)\n",
      "\u001b[2K     \u001b[38;2;114;156;31m━━━━━━━━━━━━━━━━━━━━━━━━━━━━━━━━━━━━━━━\u001b[0m \u001b[32m293.3/293.3 KB\u001b[0m \u001b[31m3.1 MB/s\u001b[0m eta \u001b[36m0:00:00\u001b[0m[36m0:00:01\u001b[0mm eta \u001b[36m0:00:01\u001b[0m\n",
      "\u001b[?25hRequirement already satisfied: pandas>=0.25 in /Users/denisebby/.pyenv/versions/3.10.3/envs/pl_dev_1/lib/python3.10/site-packages (from seaborn) (1.5.2)\n",
      "Requirement already satisfied: numpy!=1.24.0,>=1.17 in /Users/denisebby/.pyenv/versions/3.10.3/envs/pl_dev_1/lib/python3.10/site-packages (from seaborn) (1.24.1)\n",
      "Requirement already satisfied: matplotlib!=3.6.1,>=3.1 in /Users/denisebby/.pyenv/versions/3.10.3/envs/pl_dev_1/lib/python3.10/site-packages (from seaborn) (3.7.1)\n",
      "Requirement already satisfied: pyparsing>=2.3.1 in /Users/denisebby/.pyenv/versions/3.10.3/envs/pl_dev_1/lib/python3.10/site-packages (from matplotlib!=3.6.1,>=3.1->seaborn) (3.0.9)\n",
      "Requirement already satisfied: pillow>=6.2.0 in /Users/denisebby/.pyenv/versions/3.10.3/envs/pl_dev_1/lib/python3.10/site-packages (from matplotlib!=3.6.1,>=3.1->seaborn) (9.4.0)\n",
      "Requirement already satisfied: packaging>=20.0 in /Users/denisebby/.pyenv/versions/3.10.3/envs/pl_dev_1/lib/python3.10/site-packages (from matplotlib!=3.6.1,>=3.1->seaborn) (21.3)\n",
      "Requirement already satisfied: kiwisolver>=1.0.1 in /Users/denisebby/.pyenv/versions/3.10.3/envs/pl_dev_1/lib/python3.10/site-packages (from matplotlib!=3.6.1,>=3.1->seaborn) (1.4.4)\n",
      "Requirement already satisfied: fonttools>=4.22.0 in /Users/denisebby/.pyenv/versions/3.10.3/envs/pl_dev_1/lib/python3.10/site-packages (from matplotlib!=3.6.1,>=3.1->seaborn) (4.39.3)\n",
      "Requirement already satisfied: cycler>=0.10 in /Users/denisebby/.pyenv/versions/3.10.3/envs/pl_dev_1/lib/python3.10/site-packages (from matplotlib!=3.6.1,>=3.1->seaborn) (0.11.0)\n",
      "Requirement already satisfied: python-dateutil>=2.7 in /Users/denisebby/.pyenv/versions/3.10.3/envs/pl_dev_1/lib/python3.10/site-packages (from matplotlib!=3.6.1,>=3.1->seaborn) (2.8.2)\n",
      "Requirement already satisfied: contourpy>=1.0.1 in /Users/denisebby/.pyenv/versions/3.10.3/envs/pl_dev_1/lib/python3.10/site-packages (from matplotlib!=3.6.1,>=3.1->seaborn) (1.0.7)\n",
      "Requirement already satisfied: pytz>=2020.1 in /Users/denisebby/.pyenv/versions/3.10.3/envs/pl_dev_1/lib/python3.10/site-packages (from pandas>=0.25->seaborn) (2022.7.1)\n",
      "Requirement already satisfied: six>=1.5 in /Users/denisebby/.pyenv/versions/3.10.3/envs/pl_dev_1/lib/python3.10/site-packages (from python-dateutil>=2.7->matplotlib!=3.6.1,>=3.1->seaborn) (1.16.0)\n",
      "Installing collected packages: seaborn\n",
      "Successfully installed seaborn-0.12.2\n",
      "\u001b[33mWARNING: You are using pip version 22.0.4; however, version 23.0.1 is available.\n",
      "You should consider upgrading via the '/Users/denisebby/.pyenv/versions/3.10.3/envs/pl_dev_1/bin/python3.10 -m pip install --upgrade pip' command.\u001b[0m\u001b[33m\n",
      "\u001b[0m"
     ]
    }
   ],
   "source": [
    "! pip3 install seaborn"
   ]
  },
  {
   "cell_type": "code",
   "execution_count": 21,
   "metadata": {},
   "outputs": [],
   "source": [
    "sys.path.append(\"../training/src\")"
   ]
  },
  {
   "cell_type": "code",
   "execution_count": 26,
   "metadata": {},
   "outputs": [],
   "source": [
    "import main"
   ]
  },
  {
   "cell_type": "code",
   "execution_count": 14,
   "metadata": {},
   "outputs": [
    {
     "name": "stdout",
     "output_type": "stream",
     "text": [
      "Collecting scikit-learn\n",
      "  Downloading scikit_learn-1.2.2-cp310-cp310-macosx_12_0_arm64.whl (8.5 MB)\n",
      "\u001b[2K     \u001b[38;2;114;156;31m━━━━━━━━━━━━━━━━━━━━━━━━━━━━━━━━━━━━━━━━\u001b[0m \u001b[32m8.5/8.5 MB\u001b[0m \u001b[31m15.0 MB/s\u001b[0m eta \u001b[36m0:00:00\u001b[0mm eta \u001b[36m0:00:01\u001b[0m[36m0:00:01\u001b[0m\n",
      "\u001b[?25hRequirement already satisfied: numpy>=1.17.3 in /Users/denisebby/.pyenv/versions/3.10.3/envs/pl_dev_1/lib/python3.10/site-packages (from scikit-learn) (1.24.1)\n",
      "Collecting scipy>=1.3.2\n",
      "  Downloading scipy-1.10.1-cp310-cp310-macosx_12_0_arm64.whl (28.8 MB)\n",
      "\u001b[2K     \u001b[38;2;114;156;31m━━━━━━━━━━━━━━━━━━━━━━━━━━━━━━━━━━━━━━━━\u001b[0m \u001b[32m28.8/28.8 MB\u001b[0m \u001b[31m15.4 MB/s\u001b[0m eta \u001b[36m0:00:00\u001b[0mm eta \u001b[36m0:00:01\u001b[0m[36m0:00:01\u001b[0m\n",
      "\u001b[?25hRequirement already satisfied: joblib>=1.1.1 in /Users/denisebby/.pyenv/versions/3.10.3/envs/pl_dev_1/lib/python3.10/site-packages (from scikit-learn) (1.2.0)\n",
      "Collecting threadpoolctl>=2.0.0\n",
      "  Downloading threadpoolctl-3.1.0-py3-none-any.whl (14 kB)\n",
      "Installing collected packages: threadpoolctl, scipy, scikit-learn\n",
      "Successfully installed scikit-learn-1.2.2 scipy-1.10.1 threadpoolctl-3.1.0\n",
      "\u001b[33mWARNING: You are using pip version 22.0.4; however, version 23.0.1 is available.\n",
      "You should consider upgrading via the '/Users/denisebby/.pyenv/versions/3.10.3/envs/pl_dev_1/bin/python3.10 -m pip install --upgrade pip' command.\u001b[0m\u001b[33m\n",
      "\u001b[0m"
     ]
    }
   ],
   "source": [
    "! pip3 install scikit-learn"
   ]
  },
  {
   "cell_type": "code",
   "execution_count": 12,
   "metadata": {},
   "outputs": [],
   "source": [
    "def load_joblib(model_path):\n",
    "    fs = gcsfs.GCSFileSystem()\n",
    "    with fs.open(f'{model_path}') as f:\n",
    "        return joblib.load(f)"
   ]
  },
  {
   "cell_type": "code",
   "execution_count": null,
   "metadata": {},
   "outputs": [],
   "source": []
  },
  {
   "cell_type": "code",
   "execution_count": 15,
   "metadata": {},
   "outputs": [
    {
     "name": "stderr",
     "output_type": "stream",
     "text": [
      "/Users/denisebby/.pyenv/versions/3.10.3/envs/pl_dev_1/lib/python3.10/site-packages/sklearn/base.py:318: UserWarning: Trying to unpickle estimator LogisticRegression from version 0.24.1 when using version 1.2.2. This might lead to breaking code or invalid results. Use at your own risk. For more info please refer to:\n",
      "https://scikit-learn.org/stable/model_persistence.html#security-maintainability-limitations\n",
      "  warnings.warn(\n"
     ]
    }
   ],
   "source": [
    "lrc_model = load_joblib(model_path = \"gs://churn_data_363519/churn-prediction-pipeline-20230402193147/lrc_model.joblib\")"
   ]
  },
  {
   "cell_type": "code",
   "execution_count": 43,
   "metadata": {},
   "outputs": [],
   "source": [
    "input_df = pd.read_csv(\"../data/bank_data.csv\")"
   ]
  },
  {
   "cell_type": "code",
   "execution_count": 44,
   "metadata": {},
   "outputs": [],
   "source": [
    "\n",
    "\n",
    "# columns used for X\n",
    "KEEP_COLS = [\n",
    "    'Customer_Age',\n",
    "    'Dependent_count',\n",
    "    'Months_on_book',\n",
    "    'Total_Relationship_Count',\n",
    "    'Months_Inactive_12_mon',\n",
    "    'Contacts_Count_12_mon',\n",
    "    'Credit_Limit',\n",
    "    'Total_Revolving_Bal',\n",
    "    'Avg_Open_To_Buy',\n",
    "    'Total_Amt_Chng_Q4_Q1',\n",
    "    'Total_Trans_Amt',\n",
    "    'Total_Trans_Ct',\n",
    "    'Total_Ct_Chng_Q4_Q1',\n",
    "    'Avg_Utilization_Ratio',\n",
    "]"
   ]
  },
  {
   "cell_type": "code",
   "execution_count": 45,
   "metadata": {},
   "outputs": [
    {
     "data": {
      "text/plain": [
       "(10127, 22)"
      ]
     },
     "execution_count": 45,
     "metadata": {},
     "output_type": "execute_result"
    }
   ],
   "source": [
    "input_df.shape"
   ]
  },
  {
   "cell_type": "code",
   "execution_count": 29,
   "metadata": {},
   "outputs": [
    {
     "name": "stdout",
     "output_type": "stream",
     "text": [
      "   Unnamed: 0  CLIENTNUM     Attrition_Flag  Customer_Age Gender  \\\n",
      "0           0  768805383  Existing Customer            45      M   \n",
      "1           1  818770008  Existing Customer            49      F   \n",
      "2           2  713982108  Existing Customer            51      M   \n",
      "3           3  769911858  Existing Customer            40      F   \n",
      "4           4  709106358  Existing Customer            40      M   \n",
      "\n",
      "   Dependent_count Education_Level Marital_Status Income_Category  \\\n",
      "0                3     High School        Married     $60K - $80K   \n",
      "1                5        Graduate         Single  Less than $40K   \n",
      "2                3        Graduate        Married    $80K - $120K   \n",
      "3                4     High School        Unknown  Less than $40K   \n",
      "4                3      Uneducated        Married     $60K - $80K   \n",
      "\n",
      "  Card_Category  ...  Total_Trans_Amt  Total_Trans_Ct  Total_Ct_Chng_Q4_Q1  \\\n",
      "0          Blue  ...             1144              42                1.625   \n",
      "1          Blue  ...             1291              33                3.714   \n",
      "2          Blue  ...             1887              20                2.333   \n",
      "3          Blue  ...             1171              20                2.333   \n",
      "4          Blue  ...              816              28                2.500   \n",
      "\n",
      "   Avg_Utilization_Ratio  Churn  Gender_Churn  Education_Level_Churn  \\\n",
      "0                  0.061      0      0.146152               0.152012   \n",
      "1                  0.105      0      0.173572               0.155691   \n",
      "2                  0.000      0      0.146152               0.155691   \n",
      "3                  0.760      0      0.173572               0.152012   \n",
      "4                  0.000      0      0.146152               0.159381   \n",
      "\n",
      "   Marital_Status_Churn  Income_Category_Churn  Card_Category_Churn  \n",
      "0              0.151269               0.134807             0.160979  \n",
      "1              0.169414               0.171862             0.160979  \n",
      "2              0.151269               0.157655             0.160979  \n",
      "3              0.172230               0.171862             0.160979  \n",
      "4              0.151269               0.134807             0.160979  \n",
      "\n",
      "[5 rows x 28 columns]\n"
     ]
    },
    {
     "name": "stderr",
     "output_type": "stream",
     "text": [
      "/Users/denisebby/Desktop/dev_apps/kubeflow_churn/deployment/../training/src/encode.py:31: FutureWarning: The default value of numeric_only in DataFrameGroupBy.mean is deprecated. In a future version, numeric_only will default to False. Either specify numeric_only or select only columns which should be valid for the function.\n",
      "  df[cat + '_' + response] = df[cat].map(df.groupby(cat).mean()[response])\n",
      "/Users/denisebby/Desktop/dev_apps/kubeflow_churn/deployment/../training/src/encode.py:31: FutureWarning: The default value of numeric_only in DataFrameGroupBy.mean is deprecated. In a future version, numeric_only will default to False. Either specify numeric_only or select only columns which should be valid for the function.\n",
      "  df[cat + '_' + response] = df[cat].map(df.groupby(cat).mean()[response])\n",
      "/Users/denisebby/Desktop/dev_apps/kubeflow_churn/deployment/../training/src/encode.py:31: FutureWarning: The default value of numeric_only in DataFrameGroupBy.mean is deprecated. In a future version, numeric_only will default to False. Either specify numeric_only or select only columns which should be valid for the function.\n",
      "  df[cat + '_' + response] = df[cat].map(df.groupby(cat).mean()[response])\n",
      "/Users/denisebby/Desktop/dev_apps/kubeflow_churn/deployment/../training/src/encode.py:31: FutureWarning: The default value of numeric_only in DataFrameGroupBy.mean is deprecated. In a future version, numeric_only will default to False. Either specify numeric_only or select only columns which should be valid for the function.\n",
      "  df[cat + '_' + response] = df[cat].map(df.groupby(cat).mean()[response])\n",
      "/Users/denisebby/Desktop/dev_apps/kubeflow_churn/deployment/../training/src/encode.py:31: FutureWarning: The default value of numeric_only in DataFrameGroupBy.mean is deprecated. In a future version, numeric_only will default to False. Either specify numeric_only or select only columns which should be valid for the function.\n",
      "  df[cat + '_' + response] = df[cat].map(df.groupby(cat).mean()[response])\n"
     ]
    }
   ],
   "source": [
    "# encoded_df = main.encoder_helper(input_df, category_list, 'Churn')\n",
    "# print(encoded_df.head(5))\n",
    "\n",
    "# data split\n",
    "X_TRAIN, X_TEST, Y_TRAIN, Y_TEST, X, y = main.perform_feature_engineering(\n",
    "    input_df, KEEP_COLS\n",
    ")"
   ]
  },
  {
   "cell_type": "code",
   "execution_count": 41,
   "metadata": {},
   "outputs": [
    {
     "data": {
      "text/html": [
       "<div>\n",
       "<style scoped>\n",
       "    .dataframe tbody tr th:only-of-type {\n",
       "        vertical-align: middle;\n",
       "    }\n",
       "\n",
       "    .dataframe tbody tr th {\n",
       "        vertical-align: top;\n",
       "    }\n",
       "\n",
       "    .dataframe thead th {\n",
       "        text-align: right;\n",
       "    }\n",
       "</style>\n",
       "<table border=\"1\" class=\"dataframe\">\n",
       "  <thead>\n",
       "    <tr style=\"text-align: right;\">\n",
       "      <th></th>\n",
       "      <th>Customer_Age</th>\n",
       "      <th>Dependent_count</th>\n",
       "      <th>Months_on_book</th>\n",
       "      <th>Total_Relationship_Count</th>\n",
       "      <th>Months_Inactive_12_mon</th>\n",
       "      <th>Contacts_Count_12_mon</th>\n",
       "      <th>Credit_Limit</th>\n",
       "      <th>Total_Revolving_Bal</th>\n",
       "      <th>Avg_Open_To_Buy</th>\n",
       "      <th>Total_Amt_Chng_Q4_Q1</th>\n",
       "      <th>Total_Trans_Amt</th>\n",
       "      <th>Total_Trans_Ct</th>\n",
       "      <th>Total_Ct_Chng_Q4_Q1</th>\n",
       "      <th>Avg_Utilization_Ratio</th>\n",
       "      <th>Gender_Churn</th>\n",
       "      <th>Education_Level_Churn</th>\n",
       "      <th>Marital_Status_Churn</th>\n",
       "      <th>Income_Category_Churn</th>\n",
       "      <th>Card_Category_Churn</th>\n",
       "    </tr>\n",
       "  </thead>\n",
       "  <tbody>\n",
       "    <tr>\n",
       "      <th>3781</th>\n",
       "      <td>48</td>\n",
       "      <td>3</td>\n",
       "      <td>39</td>\n",
       "      <td>4</td>\n",
       "      <td>3</td>\n",
       "      <td>4</td>\n",
       "      <td>2991.0</td>\n",
       "      <td>1508</td>\n",
       "      <td>1483.0</td>\n",
       "      <td>0.703</td>\n",
       "      <td>3734</td>\n",
       "      <td>64</td>\n",
       "      <td>0.882</td>\n",
       "      <td>0.504</td>\n",
       "      <td>0.173572</td>\n",
       "      <td>0.159381</td>\n",
       "      <td>0.169414</td>\n",
       "      <td>0.171862</td>\n",
       "      <td>0.160979</td>\n",
       "    </tr>\n",
       "    <tr>\n",
       "      <th>2922</th>\n",
       "      <td>59</td>\n",
       "      <td>1</td>\n",
       "      <td>53</td>\n",
       "      <td>5</td>\n",
       "      <td>5</td>\n",
       "      <td>4</td>\n",
       "      <td>2192.0</td>\n",
       "      <td>1569</td>\n",
       "      <td>623.0</td>\n",
       "      <td>0.706</td>\n",
       "      <td>4010</td>\n",
       "      <td>79</td>\n",
       "      <td>0.717</td>\n",
       "      <td>0.716</td>\n",
       "      <td>0.146152</td>\n",
       "      <td>0.159381</td>\n",
       "      <td>0.169414</td>\n",
       "      <td>0.171862</td>\n",
       "      <td>0.160979</td>\n",
       "    </tr>\n",
       "    <tr>\n",
       "      <th>5070</th>\n",
       "      <td>37</td>\n",
       "      <td>2</td>\n",
       "      <td>36</td>\n",
       "      <td>4</td>\n",
       "      <td>3</td>\n",
       "      <td>3</td>\n",
       "      <td>1734.0</td>\n",
       "      <td>987</td>\n",
       "      <td>747.0</td>\n",
       "      <td>0.879</td>\n",
       "      <td>4727</td>\n",
       "      <td>67</td>\n",
       "      <td>0.914</td>\n",
       "      <td>0.569</td>\n",
       "      <td>0.173572</td>\n",
       "      <td>0.155691</td>\n",
       "      <td>0.161765</td>\n",
       "      <td>0.171862</td>\n",
       "      <td>0.160979</td>\n",
       "    </tr>\n",
       "    <tr>\n",
       "      <th>7246</th>\n",
       "      <td>47</td>\n",
       "      <td>3</td>\n",
       "      <td>36</td>\n",
       "      <td>4</td>\n",
       "      <td>2</td>\n",
       "      <td>3</td>\n",
       "      <td>4786.0</td>\n",
       "      <td>1516</td>\n",
       "      <td>3270.0</td>\n",
       "      <td>0.940</td>\n",
       "      <td>4973</td>\n",
       "      <td>74</td>\n",
       "      <td>0.850</td>\n",
       "      <td>0.317</td>\n",
       "      <td>0.146152</td>\n",
       "      <td>0.210643</td>\n",
       "      <td>0.161765</td>\n",
       "      <td>0.151397</td>\n",
       "      <td>0.160979</td>\n",
       "    </tr>\n",
       "    <tr>\n",
       "      <th>623</th>\n",
       "      <td>42</td>\n",
       "      <td>3</td>\n",
       "      <td>33</td>\n",
       "      <td>3</td>\n",
       "      <td>3</td>\n",
       "      <td>2</td>\n",
       "      <td>3714.0</td>\n",
       "      <td>2170</td>\n",
       "      <td>1544.0</td>\n",
       "      <td>0.524</td>\n",
       "      <td>1454</td>\n",
       "      <td>35</td>\n",
       "      <td>0.522</td>\n",
       "      <td>0.584</td>\n",
       "      <td>0.146152</td>\n",
       "      <td>0.168532</td>\n",
       "      <td>0.169414</td>\n",
       "      <td>0.157655</td>\n",
       "      <td>0.160979</td>\n",
       "    </tr>\n",
       "    <tr>\n",
       "      <th>...</th>\n",
       "      <td>...</td>\n",
       "      <td>...</td>\n",
       "      <td>...</td>\n",
       "      <td>...</td>\n",
       "      <td>...</td>\n",
       "      <td>...</td>\n",
       "      <td>...</td>\n",
       "      <td>...</td>\n",
       "      <td>...</td>\n",
       "      <td>...</td>\n",
       "      <td>...</td>\n",
       "      <td>...</td>\n",
       "      <td>...</td>\n",
       "      <td>...</td>\n",
       "      <td>...</td>\n",
       "      <td>...</td>\n",
       "      <td>...</td>\n",
       "      <td>...</td>\n",
       "      <td>...</td>\n",
       "    </tr>\n",
       "    <tr>\n",
       "      <th>6621</th>\n",
       "      <td>49</td>\n",
       "      <td>4</td>\n",
       "      <td>30</td>\n",
       "      <td>5</td>\n",
       "      <td>3</td>\n",
       "      <td>3</td>\n",
       "      <td>1579.0</td>\n",
       "      <td>900</td>\n",
       "      <td>679.0</td>\n",
       "      <td>0.592</td>\n",
       "      <td>4354</td>\n",
       "      <td>70</td>\n",
       "      <td>0.707</td>\n",
       "      <td>0.570</td>\n",
       "      <td>0.146152</td>\n",
       "      <td>0.152012</td>\n",
       "      <td>0.169414</td>\n",
       "      <td>0.134807</td>\n",
       "      <td>0.160979</td>\n",
       "    </tr>\n",
       "    <tr>\n",
       "      <th>9535</th>\n",
       "      <td>39</td>\n",
       "      <td>1</td>\n",
       "      <td>36</td>\n",
       "      <td>1</td>\n",
       "      <td>3</td>\n",
       "      <td>2</td>\n",
       "      <td>34516.0</td>\n",
       "      <td>1662</td>\n",
       "      <td>32854.0</td>\n",
       "      <td>0.751</td>\n",
       "      <td>13578</td>\n",
       "      <td>105</td>\n",
       "      <td>0.615</td>\n",
       "      <td>0.048</td>\n",
       "      <td>0.146152</td>\n",
       "      <td>0.155691</td>\n",
       "      <td>0.169414</td>\n",
       "      <td>0.134807</td>\n",
       "      <td>0.181034</td>\n",
       "    </tr>\n",
       "    <tr>\n",
       "      <th>4638</th>\n",
       "      <td>56</td>\n",
       "      <td>2</td>\n",
       "      <td>48</td>\n",
       "      <td>4</td>\n",
       "      <td>3</td>\n",
       "      <td>3</td>\n",
       "      <td>4480.0</td>\n",
       "      <td>2465</td>\n",
       "      <td>2015.0</td>\n",
       "      <td>0.772</td>\n",
       "      <td>3331</td>\n",
       "      <td>74</td>\n",
       "      <td>0.682</td>\n",
       "      <td>0.550</td>\n",
       "      <td>0.146152</td>\n",
       "      <td>0.210643</td>\n",
       "      <td>0.169414</td>\n",
       "      <td>0.157655</td>\n",
       "      <td>0.160979</td>\n",
       "    </tr>\n",
       "    <tr>\n",
       "      <th>1166</th>\n",
       "      <td>38</td>\n",
       "      <td>2</td>\n",
       "      <td>36</td>\n",
       "      <td>6</td>\n",
       "      <td>3</td>\n",
       "      <td>4</td>\n",
       "      <td>2717.0</td>\n",
       "      <td>1591</td>\n",
       "      <td>1126.0</td>\n",
       "      <td>1.596</td>\n",
       "      <td>2064</td>\n",
       "      <td>33</td>\n",
       "      <td>1.062</td>\n",
       "      <td>0.586</td>\n",
       "      <td>0.173572</td>\n",
       "      <td>0.155691</td>\n",
       "      <td>0.151269</td>\n",
       "      <td>0.171862</td>\n",
       "      <td>0.160979</td>\n",
       "    </tr>\n",
       "    <tr>\n",
       "      <th>254</th>\n",
       "      <td>70</td>\n",
       "      <td>0</td>\n",
       "      <td>56</td>\n",
       "      <td>3</td>\n",
       "      <td>2</td>\n",
       "      <td>3</td>\n",
       "      <td>3252.0</td>\n",
       "      <td>1495</td>\n",
       "      <td>1757.0</td>\n",
       "      <td>0.581</td>\n",
       "      <td>1227</td>\n",
       "      <td>15</td>\n",
       "      <td>0.875</td>\n",
       "      <td>0.460</td>\n",
       "      <td>0.146152</td>\n",
       "      <td>0.152012</td>\n",
       "      <td>0.151269</td>\n",
       "      <td>0.171862</td>\n",
       "      <td>0.160979</td>\n",
       "    </tr>\n",
       "  </tbody>\n",
       "</table>\n",
       "<p>3039 rows × 19 columns</p>\n",
       "</div>"
      ],
      "text/plain": [
       "      Customer_Age  Dependent_count  Months_on_book  Total_Relationship_Count  \\\n",
       "3781            48                3              39                         4   \n",
       "2922            59                1              53                         5   \n",
       "5070            37                2              36                         4   \n",
       "7246            47                3              36                         4   \n",
       "623             42                3              33                         3   \n",
       "...            ...              ...             ...                       ...   \n",
       "6621            49                4              30                         5   \n",
       "9535            39                1              36                         1   \n",
       "4638            56                2              48                         4   \n",
       "1166            38                2              36                         6   \n",
       "254             70                0              56                         3   \n",
       "\n",
       "      Months_Inactive_12_mon  Contacts_Count_12_mon  Credit_Limit  \\\n",
       "3781                       3                      4        2991.0   \n",
       "2922                       5                      4        2192.0   \n",
       "5070                       3                      3        1734.0   \n",
       "7246                       2                      3        4786.0   \n",
       "623                        3                      2        3714.0   \n",
       "...                      ...                    ...           ...   \n",
       "6621                       3                      3        1579.0   \n",
       "9535                       3                      2       34516.0   \n",
       "4638                       3                      3        4480.0   \n",
       "1166                       3                      4        2717.0   \n",
       "254                        2                      3        3252.0   \n",
       "\n",
       "      Total_Revolving_Bal  Avg_Open_To_Buy  Total_Amt_Chng_Q4_Q1  \\\n",
       "3781                 1508           1483.0                 0.703   \n",
       "2922                 1569            623.0                 0.706   \n",
       "5070                  987            747.0                 0.879   \n",
       "7246                 1516           3270.0                 0.940   \n",
       "623                  2170           1544.0                 0.524   \n",
       "...                   ...              ...                   ...   \n",
       "6621                  900            679.0                 0.592   \n",
       "9535                 1662          32854.0                 0.751   \n",
       "4638                 2465           2015.0                 0.772   \n",
       "1166                 1591           1126.0                 1.596   \n",
       "254                  1495           1757.0                 0.581   \n",
       "\n",
       "      Total_Trans_Amt  Total_Trans_Ct  Total_Ct_Chng_Q4_Q1  \\\n",
       "3781             3734              64                0.882   \n",
       "2922             4010              79                0.717   \n",
       "5070             4727              67                0.914   \n",
       "7246             4973              74                0.850   \n",
       "623              1454              35                0.522   \n",
       "...               ...             ...                  ...   \n",
       "6621             4354              70                0.707   \n",
       "9535            13578             105                0.615   \n",
       "4638             3331              74                0.682   \n",
       "1166             2064              33                1.062   \n",
       "254              1227              15                0.875   \n",
       "\n",
       "      Avg_Utilization_Ratio  Gender_Churn  Education_Level_Churn  \\\n",
       "3781                  0.504      0.173572               0.159381   \n",
       "2922                  0.716      0.146152               0.159381   \n",
       "5070                  0.569      0.173572               0.155691   \n",
       "7246                  0.317      0.146152               0.210643   \n",
       "623                   0.584      0.146152               0.168532   \n",
       "...                     ...           ...                    ...   \n",
       "6621                  0.570      0.146152               0.152012   \n",
       "9535                  0.048      0.146152               0.155691   \n",
       "4638                  0.550      0.146152               0.210643   \n",
       "1166                  0.586      0.173572               0.155691   \n",
       "254                   0.460      0.146152               0.152012   \n",
       "\n",
       "      Marital_Status_Churn  Income_Category_Churn  Card_Category_Churn  \n",
       "3781              0.169414               0.171862             0.160979  \n",
       "2922              0.169414               0.171862             0.160979  \n",
       "5070              0.161765               0.171862             0.160979  \n",
       "7246              0.161765               0.151397             0.160979  \n",
       "623               0.169414               0.157655             0.160979  \n",
       "...                    ...                    ...                  ...  \n",
       "6621              0.169414               0.134807             0.160979  \n",
       "9535              0.169414               0.134807             0.181034  \n",
       "4638              0.169414               0.157655             0.160979  \n",
       "1166              0.151269               0.171862             0.160979  \n",
       "254               0.151269               0.171862             0.160979  \n",
       "\n",
       "[3039 rows x 19 columns]"
      ]
     },
     "execution_count": 41,
     "metadata": {},
     "output_type": "execute_result"
    }
   ],
   "source": [
    "X_TEST"
   ]
  },
  {
   "cell_type": "code",
   "execution_count": 32,
   "metadata": {},
   "outputs": [
    {
     "name": "stderr",
     "output_type": "stream",
     "text": [
      "/Users/denisebby/.pyenv/versions/3.10.3/envs/pl_dev_1/lib/python3.10/site-packages/sklearn/base.py:432: UserWarning: X has feature names, but LogisticRegression was fitted without feature names\n",
      "  warnings.warn(\n"
     ]
    }
   ],
   "source": [
    "preds = lrc_model.predict(X_TEST)"
   ]
  },
  {
   "cell_type": "code",
   "execution_count": 34,
   "metadata": {},
   "outputs": [
    {
     "data": {
      "text/plain": [
       "3039"
      ]
     },
     "execution_count": 34,
     "metadata": {},
     "output_type": "execute_result"
    }
   ],
   "source": [
    "X_TEST.shape[0]"
   ]
  },
  {
   "cell_type": "code",
   "execution_count": 33,
   "metadata": {},
   "outputs": [
    {
     "data": {
      "text/plain": [
       "3039"
      ]
     },
     "execution_count": 33,
     "metadata": {},
     "output_type": "execute_result"
    }
   ],
   "source": [
    "preds.shape[0]"
   ]
  },
  {
   "cell_type": "code",
   "execution_count": 36,
   "metadata": {},
   "outputs": [],
   "source": [
    "import matplotlib.pyplot as plt"
   ]
  },
  {
   "cell_type": "code",
   "execution_count": 38,
   "metadata": {},
   "outputs": [
    {
     "data": {
      "text/plain": [
       "(array([2726.,    0.,    0.,    0.,    0.,    0.,    0.,    0.,    0.,\n",
       "         313.]),\n",
       " array([0. , 0.1, 0.2, 0.3, 0.4, 0.5, 0.6, 0.7, 0.8, 0.9, 1. ]),\n",
       " <BarContainer object of 10 artists>)"
      ]
     },
     "execution_count": 38,
     "metadata": {},
     "output_type": "execute_result"
    },
    {
     "data": {
      "image/png": "[encoded data removed]",
      "text/plain": [
       "<Figure size 640x480 with 1 Axes>"
      ]
     },
     "metadata": {},
     "output_type": "display_data"
    }
   ],
   "source": [
    "plt.hist(preds)"
   ]
  }
 ],
 "metadata": {
  "kernelspec": {
   "display_name": "pl_dev_1",
   "language": "python",
   "name": "python3"
  },
  "language_info": {
   "codemirror_mode": {
    "name": "ipython",
    "version": 3
   },
   "file_extension": ".py",
   "mimetype": "text/x-python",
   "name": "python",
   "nbconvert_exporter": "python",
   "pygments_lexer": "ipython3",
   "version": "3.10.3"
  },
  "orig_nbformat": 4,
  "vscode": {
   "interpreter": {
    "hash": "9242012419c520fb2a40a2aa0ff70c7f091a54e2be81984ec7393bd241ebc50c"
   }
  }
 },
 "nbformat": 4,
 "nbformat_minor": 2
}
